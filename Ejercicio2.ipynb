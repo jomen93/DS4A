{
 "cells": [
  {
   "cell_type": "markdown",
   "metadata": {},
   "source": [
    "# Análisis de Bases de datos SNIES (Ejercicio 2)"
   ]
  },
  {
   "cell_type": "code",
   "execution_count": 1,
   "metadata": {},
   "outputs": [],
   "source": [
    "import numpy as np \n",
    "import matplotlib.pyplot as plt \n",
    "import pandas as pd"
   ]
  },
  {
   "attachments": {},
   "cell_type": "markdown",
   "metadata": {},
   "source": [
    "Se carga la base ded atos en un Dataframe de pandas"
   ]
  },
  {
   "cell_type": "code",
   "execution_count": 2,
   "metadata": {},
   "outputs": [
    {
     "data": {
      "text/html": [
       "<div>\n",
       "<style scoped>\n",
       "    .dataframe tbody tr th:only-of-type {\n",
       "        vertical-align: middle;\n",
       "    }\n",
       "\n",
       "    .dataframe tbody tr th {\n",
       "        vertical-align: top;\n",
       "    }\n",
       "\n",
       "    .dataframe thead th {\n",
       "        text-align: right;\n",
       "    }\n",
       "</style>\n",
       "<table border=\"1\" class=\"dataframe\">\n",
       "  <thead>\n",
       "    <tr style=\"text-align: right;\">\n",
       "      <th></th>\n",
       "      <th>IES</th>\n",
       "      <th>Sector IES</th>\n",
       "      <th>Caracter IES</th>\n",
       "      <th>Departamento</th>\n",
       "      <th>Municipio de domicilio de la IES</th>\n",
       "      <th>Programa Académico</th>\n",
       "      <th>Nivel Académico</th>\n",
       "      <th>Nivel de Formación</th>\n",
       "      <th>Metodología</th>\n",
       "      <th>Sexo</th>\n",
       "      <th>Año</th>\n",
       "      <th>Semestre</th>\n",
       "      <th>Graduados</th>\n",
       "      <th>Matriculados</th>\n",
       "    </tr>\n",
       "  </thead>\n",
       "  <tbody>\n",
       "    <tr>\n",
       "      <th>0</th>\n",
       "      <td>UNIVERSIDAD LIBRE</td>\n",
       "      <td>PRIVADA</td>\n",
       "      <td>UNIVERSIDAD</td>\n",
       "      <td>RISARALDA</td>\n",
       "      <td>PEREIRA</td>\n",
       "      <td>ESPECIALIZACION EN ALTA GERENCIA</td>\n",
       "      <td>POSGRADO</td>\n",
       "      <td>ESPECIALIZACION UNIVERSITARIA</td>\n",
       "      <td>PRESENCIAL</td>\n",
       "      <td>HOMBRE</td>\n",
       "      <td>2016</td>\n",
       "      <td>2</td>\n",
       "      <td>31</td>\n",
       "      <td>39</td>\n",
       "    </tr>\n",
       "    <tr>\n",
       "      <th>1</th>\n",
       "      <td>UNIVERSIDAD LIBRE</td>\n",
       "      <td>PRIVADA</td>\n",
       "      <td>UNIVERSIDAD</td>\n",
       "      <td>RISARALDA</td>\n",
       "      <td>PEREIRA</td>\n",
       "      <td>ESPECIALIZACION EN ALTA GERENCIA</td>\n",
       "      <td>POSGRADO</td>\n",
       "      <td>ESPECIALIZACION UNIVERSITARIA</td>\n",
       "      <td>PRESENCIAL</td>\n",
       "      <td>HOMBRE</td>\n",
       "      <td>2016</td>\n",
       "      <td>1</td>\n",
       "      <td>17</td>\n",
       "      <td>37</td>\n",
       "    </tr>\n",
       "    <tr>\n",
       "      <th>2</th>\n",
       "      <td>UNIVERSIDAD LIBRE</td>\n",
       "      <td>PRIVADA</td>\n",
       "      <td>UNIVERSIDAD</td>\n",
       "      <td>RISARALDA</td>\n",
       "      <td>PEREIRA</td>\n",
       "      <td>ESPECIALIZACION EN ALTA GERENCIA</td>\n",
       "      <td>POSGRADO</td>\n",
       "      <td>ESPECIALIZACION UNIVERSITARIA</td>\n",
       "      <td>PRESENCIAL</td>\n",
       "      <td>MUJER</td>\n",
       "      <td>2016</td>\n",
       "      <td>1</td>\n",
       "      <td>20</td>\n",
       "      <td>41</td>\n",
       "    </tr>\n",
       "    <tr>\n",
       "      <th>3</th>\n",
       "      <td>UNIVERSIDAD LIBRE</td>\n",
       "      <td>PRIVADA</td>\n",
       "      <td>UNIVERSIDAD</td>\n",
       "      <td>RISARALDA</td>\n",
       "      <td>PEREIRA</td>\n",
       "      <td>ESPECIALIZACION EN ALTA GERENCIA</td>\n",
       "      <td>POSGRADO</td>\n",
       "      <td>ESPECIALIZACION UNIVERSITARIA</td>\n",
       "      <td>PRESENCIAL</td>\n",
       "      <td>MUJER</td>\n",
       "      <td>2016</td>\n",
       "      <td>2</td>\n",
       "      <td>29</td>\n",
       "      <td>44</td>\n",
       "    </tr>\n",
       "    <tr>\n",
       "      <th>4</th>\n",
       "      <td>CORPORACION UNIVERSITARIA DEL HUILA-CORHUILA-</td>\n",
       "      <td>PRIVADA</td>\n",
       "      <td>INSTITUCION UNIVERSITARIA/ESCUELA TECNOLOGICA</td>\n",
       "      <td>HUILA</td>\n",
       "      <td>NEIVA</td>\n",
       "      <td>INGENIERIA INDUSTRIAL</td>\n",
       "      <td>PREGRADO</td>\n",
       "      <td>UNIVERSITARIA</td>\n",
       "      <td>PRESENCIAL</td>\n",
       "      <td>HOMBRE</td>\n",
       "      <td>2016</td>\n",
       "      <td>2</td>\n",
       "      <td>79</td>\n",
       "      <td>873</td>\n",
       "    </tr>\n",
       "    <tr>\n",
       "      <th>...</th>\n",
       "      <td>...</td>\n",
       "      <td>...</td>\n",
       "      <td>...</td>\n",
       "      <td>...</td>\n",
       "      <td>...</td>\n",
       "      <td>...</td>\n",
       "      <td>...</td>\n",
       "      <td>...</td>\n",
       "      <td>...</td>\n",
       "      <td>...</td>\n",
       "      <td>...</td>\n",
       "      <td>...</td>\n",
       "      <td>...</td>\n",
       "      <td>...</td>\n",
       "    </tr>\n",
       "    <tr>\n",
       "      <th>71091</th>\n",
       "      <td>PONTIFICIA UNIVERSIDAD JAVERIANA</td>\n",
       "      <td>PRIVADA</td>\n",
       "      <td>UNIVERSIDAD</td>\n",
       "      <td>BOGOTA D.C.</td>\n",
       "      <td>BOGOTA D.C.</td>\n",
       "      <td>MAESTRIA EN INGENIERIA INDUSTRIAL</td>\n",
       "      <td>POSGRADO</td>\n",
       "      <td>MAESTRIA</td>\n",
       "      <td>PRESENCIAL</td>\n",
       "      <td>MUJER</td>\n",
       "      <td>2019</td>\n",
       "      <td>1</td>\n",
       "      <td>2</td>\n",
       "      <td>17</td>\n",
       "    </tr>\n",
       "    <tr>\n",
       "      <th>71092</th>\n",
       "      <td>PONTIFICIA UNIVERSIDAD JAVERIANA</td>\n",
       "      <td>PRIVADA</td>\n",
       "      <td>UNIVERSIDAD</td>\n",
       "      <td>BOGOTA D.C.</td>\n",
       "      <td>BOGOTA D.C.</td>\n",
       "      <td>ESPECIALIZACION EN ORTOPEDIA Y TRAUMATOLOGIA</td>\n",
       "      <td>POSGRADO</td>\n",
       "      <td>ESPECIALIZACION MEDICO QUIRURGICA</td>\n",
       "      <td>PRESENCIAL</td>\n",
       "      <td>MUJER</td>\n",
       "      <td>2019</td>\n",
       "      <td>1</td>\n",
       "      <td>3</td>\n",
       "      <td>9</td>\n",
       "    </tr>\n",
       "    <tr>\n",
       "      <th>71093</th>\n",
       "      <td>PONTIFICIA UNIVERSIDAD JAVERIANA</td>\n",
       "      <td>PRIVADA</td>\n",
       "      <td>UNIVERSIDAD</td>\n",
       "      <td>BOGOTA D.C.</td>\n",
       "      <td>BOGOTA D.C.</td>\n",
       "      <td>ESPECIALIZACION EN ENFERMERIA EN CUIDADO CRITICO</td>\n",
       "      <td>POSGRADO</td>\n",
       "      <td>ESPECIALIZACION UNIVERSITARIA</td>\n",
       "      <td>PRESENCIAL</td>\n",
       "      <td>HOMBRE</td>\n",
       "      <td>2019</td>\n",
       "      <td>1</td>\n",
       "      <td>2</td>\n",
       "      <td>6</td>\n",
       "    </tr>\n",
       "    <tr>\n",
       "      <th>71094</th>\n",
       "      <td>PONTIFICIA UNIVERSIDAD JAVERIANA</td>\n",
       "      <td>PRIVADA</td>\n",
       "      <td>UNIVERSIDAD</td>\n",
       "      <td>BOGOTA D.C.</td>\n",
       "      <td>BOGOTA D.C.</td>\n",
       "      <td>CIENCIA DE LA INFORMACION - BIBLIOTECOLOGIA</td>\n",
       "      <td>PREGRADO</td>\n",
       "      <td>UNIVERSITARIA</td>\n",
       "      <td>PRESENCIAL</td>\n",
       "      <td>HOMBRE</td>\n",
       "      <td>2019</td>\n",
       "      <td>1</td>\n",
       "      <td>3</td>\n",
       "      <td>49</td>\n",
       "    </tr>\n",
       "    <tr>\n",
       "      <th>71095</th>\n",
       "      <td>PONTIFICIA UNIVERSIDAD JAVERIANA</td>\n",
       "      <td>PRIVADA</td>\n",
       "      <td>UNIVERSIDAD</td>\n",
       "      <td>BOGOTA D.C.</td>\n",
       "      <td>BOGOTA D.C.</td>\n",
       "      <td>MAESTRIA EN HIDROSISTEMAS</td>\n",
       "      <td>POSGRADO</td>\n",
       "      <td>MAESTRIA</td>\n",
       "      <td>PRESENCIAL</td>\n",
       "      <td>MUJER</td>\n",
       "      <td>2019</td>\n",
       "      <td>1</td>\n",
       "      <td>1</td>\n",
       "      <td>7</td>\n",
       "    </tr>\n",
       "  </tbody>\n",
       "</table>\n",
       "<p>71096 rows × 14 columns</p>\n",
       "</div>"
      ],
      "text/plain": [
       "                                                 IES Sector IES  \\\n",
       "0                                  UNIVERSIDAD LIBRE    PRIVADA   \n",
       "1                                  UNIVERSIDAD LIBRE    PRIVADA   \n",
       "2                                  UNIVERSIDAD LIBRE    PRIVADA   \n",
       "3                                  UNIVERSIDAD LIBRE    PRIVADA   \n",
       "4      CORPORACION UNIVERSITARIA DEL HUILA-CORHUILA-    PRIVADA   \n",
       "...                                              ...        ...   \n",
       "71091               PONTIFICIA UNIVERSIDAD JAVERIANA    PRIVADA   \n",
       "71092               PONTIFICIA UNIVERSIDAD JAVERIANA    PRIVADA   \n",
       "71093               PONTIFICIA UNIVERSIDAD JAVERIANA    PRIVADA   \n",
       "71094               PONTIFICIA UNIVERSIDAD JAVERIANA    PRIVADA   \n",
       "71095               PONTIFICIA UNIVERSIDAD JAVERIANA    PRIVADA   \n",
       "\n",
       "                                        Caracter IES Departamento  \\\n",
       "0                                        UNIVERSIDAD    RISARALDA   \n",
       "1                                        UNIVERSIDAD    RISARALDA   \n",
       "2                                        UNIVERSIDAD    RISARALDA   \n",
       "3                                        UNIVERSIDAD    RISARALDA   \n",
       "4      INSTITUCION UNIVERSITARIA/ESCUELA TECNOLOGICA        HUILA   \n",
       "...                                              ...          ...   \n",
       "71091                                    UNIVERSIDAD  BOGOTA D.C.   \n",
       "71092                                    UNIVERSIDAD  BOGOTA D.C.   \n",
       "71093                                    UNIVERSIDAD  BOGOTA D.C.   \n",
       "71094                                    UNIVERSIDAD  BOGOTA D.C.   \n",
       "71095                                    UNIVERSIDAD  BOGOTA D.C.   \n",
       "\n",
       "      Municipio de domicilio de la IES  \\\n",
       "0                              PEREIRA   \n",
       "1                              PEREIRA   \n",
       "2                              PEREIRA   \n",
       "3                              PEREIRA   \n",
       "4                                NEIVA   \n",
       "...                                ...   \n",
       "71091                      BOGOTA D.C.   \n",
       "71092                      BOGOTA D.C.   \n",
       "71093                      BOGOTA D.C.   \n",
       "71094                      BOGOTA D.C.   \n",
       "71095                      BOGOTA D.C.   \n",
       "\n",
       "                                     Programa Académico Nivel Académico  \\\n",
       "0                      ESPECIALIZACION EN ALTA GERENCIA        POSGRADO   \n",
       "1                      ESPECIALIZACION EN ALTA GERENCIA        POSGRADO   \n",
       "2                      ESPECIALIZACION EN ALTA GERENCIA        POSGRADO   \n",
       "3                      ESPECIALIZACION EN ALTA GERENCIA        POSGRADO   \n",
       "4                                 INGENIERIA INDUSTRIAL        PREGRADO   \n",
       "...                                                 ...             ...   \n",
       "71091                 MAESTRIA EN INGENIERIA INDUSTRIAL        POSGRADO   \n",
       "71092      ESPECIALIZACION EN ORTOPEDIA Y TRAUMATOLOGIA        POSGRADO   \n",
       "71093  ESPECIALIZACION EN ENFERMERIA EN CUIDADO CRITICO        POSGRADO   \n",
       "71094       CIENCIA DE LA INFORMACION - BIBLIOTECOLOGIA        PREGRADO   \n",
       "71095                         MAESTRIA EN HIDROSISTEMAS        POSGRADO   \n",
       "\n",
       "                      Nivel de Formación Metodología    Sexo   Año  Semestre  \\\n",
       "0          ESPECIALIZACION UNIVERSITARIA  PRESENCIAL  HOMBRE  2016         2   \n",
       "1          ESPECIALIZACION UNIVERSITARIA  PRESENCIAL  HOMBRE  2016         1   \n",
       "2          ESPECIALIZACION UNIVERSITARIA  PRESENCIAL   MUJER  2016         1   \n",
       "3          ESPECIALIZACION UNIVERSITARIA  PRESENCIAL   MUJER  2016         2   \n",
       "4                          UNIVERSITARIA  PRESENCIAL  HOMBRE  2016         2   \n",
       "...                                  ...         ...     ...   ...       ...   \n",
       "71091                           MAESTRIA  PRESENCIAL   MUJER  2019         1   \n",
       "71092  ESPECIALIZACION MEDICO QUIRURGICA  PRESENCIAL   MUJER  2019         1   \n",
       "71093      ESPECIALIZACION UNIVERSITARIA  PRESENCIAL  HOMBRE  2019         1   \n",
       "71094                      UNIVERSITARIA  PRESENCIAL  HOMBRE  2019         1   \n",
       "71095                           MAESTRIA  PRESENCIAL   MUJER  2019         1   \n",
       "\n",
       "       Graduados  Matriculados  \n",
       "0             31            39  \n",
       "1             17            37  \n",
       "2             20            41  \n",
       "3             29            44  \n",
       "4             79           873  \n",
       "...          ...           ...  \n",
       "71091          2            17  \n",
       "71092          3             9  \n",
       "71093          2             6  \n",
       "71094          3            49  \n",
       "71095          1             7  \n",
       "\n",
       "[71096 rows x 14 columns]"
      ]
     },
     "execution_count": 2,
     "metadata": {},
     "output_type": "execute_result"
    }
   ],
   "source": [
    "data = pd.read_csv(\"MEN_SNIES_test.csv\")\n",
    "data.rename(columns={\"Institución de Educación Superior (IES)\":\"IES\"}, inplace=True)\n",
    "data.rename(columns={\"Departamento de domicilio de la IES\":\"Departamento\"}, inplace=True)\n",
    "data"
   ]
  },
  {
   "attachments": {},
   "cell_type": "markdown",
   "metadata": {},
   "source": [
    "### 1. ¿Cuáles deon las 5 IES que mayor cantidad de graduados reportaron en el periodo 2016-2019? "
   ]
  },
  {
   "cell_type": "code",
   "execution_count": 3,
   "metadata": {},
   "outputs": [
    {
     "data": {
      "text/html": [
       "<div>\n",
       "<style scoped>\n",
       "    .dataframe tbody tr th:only-of-type {\n",
       "        vertical-align: middle;\n",
       "    }\n",
       "\n",
       "    .dataframe tbody tr th {\n",
       "        vertical-align: top;\n",
       "    }\n",
       "\n",
       "    .dataframe thead th {\n",
       "        text-align: right;\n",
       "    }\n",
       "</style>\n",
       "<table border=\"1\" class=\"dataframe\">\n",
       "  <thead>\n",
       "    <tr style=\"text-align: right;\">\n",
       "      <th></th>\n",
       "      <th>Graduados</th>\n",
       "    </tr>\n",
       "    <tr>\n",
       "      <th>IES</th>\n",
       "      <th></th>\n",
       "    </tr>\n",
       "  </thead>\n",
       "  <tbody>\n",
       "    <tr>\n",
       "      <th>SERVICIO NACIONAL DE APRENDIZAJE-SENA-</th>\n",
       "      <td>143808</td>\n",
       "    </tr>\n",
       "    <tr>\n",
       "      <th>CORPORACION UNIVERSITARIA MINUTO DE DIOS -UNIMINUTO-</th>\n",
       "      <td>24271</td>\n",
       "    </tr>\n",
       "    <tr>\n",
       "      <th>UNIVERSIDAD NACIONAL DE COLOMBIA</th>\n",
       "      <td>19481</td>\n",
       "    </tr>\n",
       "    <tr>\n",
       "      <th>UNIVERSIDAD PONTIFICIA BOLIVARIANA</th>\n",
       "      <td>19300</td>\n",
       "    </tr>\n",
       "    <tr>\n",
       "      <th>UNIVERSIDAD COOPERATIVA DE COLOMBIA</th>\n",
       "      <td>18996</td>\n",
       "    </tr>\n",
       "  </tbody>\n",
       "</table>\n",
       "</div>"
      ],
      "text/plain": [
       "                                                    Graduados\n",
       "IES                                                          \n",
       "SERVICIO NACIONAL DE APRENDIZAJE-SENA-                 143808\n",
       "CORPORACION UNIVERSITARIA MINUTO DE DIOS -UNIMI...      24271\n",
       "UNIVERSIDAD NACIONAL DE COLOMBIA                        19481\n",
       "UNIVERSIDAD PONTIFICIA BOLIVARIANA                      19300\n",
       "UNIVERSIDAD COOPERATIVA DE COLOMBIA                     18996"
      ]
     },
     "execution_count": 3,
     "metadata": {},
     "output_type": "execute_result"
    }
   ],
   "source": [
    "graduados_top5 = data[[\"IES\", \"Graduados\"]].groupby(\"IES\").sum()\n",
    "graduados_top5 = graduados_top5.sort_values(by=\"Graduados\", ascending=False)\n",
    "graduados_top5.head()"
   ]
  },
  {
   "attachments": {},
   "cell_type": "markdown",
   "metadata": {},
   "source": [
    "### ¿Corresponden estas universidad también con el top 5 de las que mayor cantidad de matriculados presentaron en este mismo periodo?"
   ]
  },
  {
   "cell_type": "code",
   "execution_count": 4,
   "metadata": {},
   "outputs": [
    {
     "data": {
      "text/html": [
       "<div>\n",
       "<style scoped>\n",
       "    .dataframe tbody tr th:only-of-type {\n",
       "        vertical-align: middle;\n",
       "    }\n",
       "\n",
       "    .dataframe tbody tr th {\n",
       "        vertical-align: top;\n",
       "    }\n",
       "\n",
       "    .dataframe thead th {\n",
       "        text-align: right;\n",
       "    }\n",
       "</style>\n",
       "<table border=\"1\" class=\"dataframe\">\n",
       "  <thead>\n",
       "    <tr style=\"text-align: right;\">\n",
       "      <th></th>\n",
       "      <th>Matriculados</th>\n",
       "    </tr>\n",
       "    <tr>\n",
       "      <th>IES</th>\n",
       "      <th></th>\n",
       "    </tr>\n",
       "  </thead>\n",
       "  <tbody>\n",
       "    <tr>\n",
       "      <th>SERVICIO NACIONAL DE APRENDIZAJE-SENA-</th>\n",
       "      <td>947839</td>\n",
       "    </tr>\n",
       "    <tr>\n",
       "      <th>CORPORACION UNIVERSITARIA MINUTO DE DIOS -UNIMINUTO-</th>\n",
       "      <td>231178</td>\n",
       "    </tr>\n",
       "    <tr>\n",
       "      <th>UNIVERSIDAD NACIONAL DE COLOMBIA</th>\n",
       "      <td>207647</td>\n",
       "    </tr>\n",
       "    <tr>\n",
       "      <th>UNIVERSIDAD COOPERATIVA DE COLOMBIA</th>\n",
       "      <td>197318</td>\n",
       "    </tr>\n",
       "    <tr>\n",
       "      <th>UNIVERSIDAD DE ANTIOQUIA</th>\n",
       "      <td>195390</td>\n",
       "    </tr>\n",
       "  </tbody>\n",
       "</table>\n",
       "</div>"
      ],
      "text/plain": [
       "                                                    Matriculados\n",
       "IES                                                             \n",
       "SERVICIO NACIONAL DE APRENDIZAJE-SENA-                    947839\n",
       "CORPORACION UNIVERSITARIA MINUTO DE DIOS -UNIMI...        231178\n",
       "UNIVERSIDAD NACIONAL DE COLOMBIA                          207647\n",
       "UNIVERSIDAD COOPERATIVA DE COLOMBIA                       197318\n",
       "UNIVERSIDAD DE ANTIOQUIA                                  195390"
      ]
     },
     "execution_count": 4,
     "metadata": {},
     "output_type": "execute_result"
    }
   ],
   "source": [
    "matriculados_top5 = data[[\"IES\", \"Matriculados\"]].groupby(\"IES\").sum()\n",
    "matriculados_top5 = matriculados_top5.sort_values(by=\"Matriculados\", ascending=False)\n",
    "matriculados_top5.head()"
   ]
  },
  {
   "attachments": {},
   "cell_type": "markdown",
   "metadata": {},
   "source": [
    "### ¿Cuántas IES oficiales y cuántas privadas reportaron estudiantes graduados en el año 2019? ¿Qué porcentaje de los estudiantes graduados corresponden a IES oficiales y qué porcentaje a provadas para este mismo año?"
   ]
  },
  {
   "cell_type": "code",
   "execution_count": 5,
   "metadata": {},
   "outputs": [
    {
     "name": "stdout",
     "output_type": "stream",
     "text": [
      "Número de instituciones privadas que reportaron graduados = 153\n",
      "Número de instituciones públicas que reportaron graduados = 66\n"
     ]
    }
   ],
   "source": [
    "graduados_2019 = data[data[\"Año\"] == 2019]\n",
    "n_privadas = len(graduados_2019[graduados_2019[\"Sector IES\"]==\"PRIVADA\"][\"IES\"].unique())\n",
    "n_publicas = len(graduados_2019[graduados_2019[\"Sector IES\"]==\"OFICIAL\"][\"IES\"].unique())\n",
    "print(f\"Número de instituciones privadas que reportaron graduados = {n_privadas}\")\n",
    "print(f\"Número de instituciones públicas que reportaron graduados = {n_publicas}\")\n",
    "\n"
   ]
  },
  {
   "cell_type": "code",
   "execution_count": 6,
   "metadata": {},
   "outputs": [
    {
     "name": "stdout",
     "output_type": "stream",
     "text": [
      "Porcentaje matriculado privadas 52.3\n",
      "Porcentaje matriculado publicas 47.7\n"
     ]
    }
   ],
   "source": [
    "m_privadas = graduados_2019[graduados_2019[\"Sector IES\"] == \"PRIVADA\"][\"Matriculados\"].sum()\n",
    "m_publicas = graduados_2019[graduados_2019[\"Sector IES\"] == \"OFICIAL\"][\"Matriculados\"].sum()\n",
    "m_total = graduados_2019[\"Matriculados\"].sum()\n",
    "\n",
    "print(f\"Porcentaje matriculado privadas {m_privadas/m_total * 100:.1f}\")\n",
    "print(f\"Porcentaje matriculado publicas {m_publicas/m_total * 100:.1f}\")"
   ]
  },
  {
   "attachments": {},
   "cell_type": "markdown",
   "metadata": {},
   "source": [
    "### ¿Puedes Identificar a qué niveles de formación corresponden?"
   ]
  },
  {
   "cell_type": "code",
   "execution_count": 7,
   "metadata": {},
   "outputs": [
    {
     "name": "stdout",
     "output_type": "stream",
     "text": [
      "ESPECIALIZACION UNIVERSITARIA\n",
      "UNIVERSITARIA\n",
      "MAESTRIA\n",
      "TECNOLOGICA\n",
      "ESPECIALIZACION MEDICO QUIRURGICA\n",
      "FORMACION TECNICA PROFESIONAL\n",
      "DOCTORADO\n",
      "ESPECIALIZACION TECNOLOGICA\n"
     ]
    }
   ],
   "source": [
    "for i in data[\"Nivel de Formación\"].unique():\n",
    "    print(i)"
   ]
  },
  {
   "cell_type": "code",
   "execution_count": 8,
   "metadata": {},
   "outputs": [
    {
     "name": "stdout",
     "output_type": "stream",
     "text": [
      "ESPECIALIZACION UNIVERSITARIA\n",
      "UNIVERSITARIA\n",
      "MAESTRIA\n",
      "TECNOLOGICA\n",
      "ESPECIALIZACION MEDICO QUIRURGICA\n",
      "FORMACION TECNICA PROFESIONAL\n",
      "DOCTORADO\n",
      "ESPECIALIZACION TECNOLOGICA\n"
     ]
    },
    {
     "data": {
      "text/plain": [
       "<matplotlib.legend.Legend at 0x7f9108f89198>"
      ]
     },
     "execution_count": 8,
     "metadata": {},
     "output_type": "execute_result"
    },
    {
     "data": {
      "image/png": "[encoded data removed]",
      "text/plain": [
       "<Figure size 1080x576 with 1 Axes>"
      ]
     },
     "metadata": {
      "needs_background": "light"
     },
     "output_type": "display_data"
    }
   ],
   "source": [
    "fig = plt.figure(figsize=(15,8))\n",
    "for i in data[\"Nivel de Formación\"].unique():\n",
    "    print(i)\n",
    "    nivel_formación = data[data[\"Nivel de Formación\"] == i][[\"Año\", \"Graduados\"]].groupby(\"Año\").sum()\n",
    "    plt.plot(nivel_formación, label = i)\n",
    "plt.grid(True)\n",
    "plt.ylabel(\"Total graduados\")\n",
    "plt.xlabel(\"Años\")\n",
    "plt.legend()"
   ]
  },
  {
   "attachments": {},
   "cell_type": "markdown",
   "metadata": {},
   "source": [
    "### ¿Sabes cuál es el programa académico que más graduados tuvo en el período 2016.2019 y que porcentaje representa respecto al total de graduados en dicho período?"
   ]
  },
  {
   "cell_type": "code",
   "execution_count": 9,
   "metadata": {},
   "outputs": [
    {
     "data": {
      "text/html": [
       "<div>\n",
       "<style scoped>\n",
       "    .dataframe tbody tr th:only-of-type {\n",
       "        vertical-align: middle;\n",
       "    }\n",
       "\n",
       "    .dataframe tbody tr th {\n",
       "        vertical-align: top;\n",
       "    }\n",
       "\n",
       "    .dataframe thead th {\n",
       "        text-align: right;\n",
       "    }\n",
       "</style>\n",
       "<table border=\"1\" class=\"dataframe\">\n",
       "  <thead>\n",
       "    <tr style=\"text-align: right;\">\n",
       "      <th></th>\n",
       "      <th>Graduados</th>\n",
       "    </tr>\n",
       "    <tr>\n",
       "      <th>Programa Académico</th>\n",
       "      <th></th>\n",
       "    </tr>\n",
       "  </thead>\n",
       "  <tbody>\n",
       "    <tr>\n",
       "      <th>ADMINISTRACION DE EMPRESAS</th>\n",
       "      <td>42970</td>\n",
       "    </tr>\n",
       "    <tr>\n",
       "      <th>DERECHO</th>\n",
       "      <td>37755</td>\n",
       "    </tr>\n",
       "    <tr>\n",
       "      <th>CONTADURIA PUBLICA</th>\n",
       "      <td>35025</td>\n",
       "    </tr>\n",
       "    <tr>\n",
       "      <th>PSICOLOGIA</th>\n",
       "      <td>26365</td>\n",
       "    </tr>\n",
       "    <tr>\n",
       "      <th>INGENIERIA INDUSTRIAL</th>\n",
       "      <td>22679</td>\n",
       "    </tr>\n",
       "  </tbody>\n",
       "</table>\n",
       "</div>"
      ],
      "text/plain": [
       "                            Graduados\n",
       "Programa Académico                   \n",
       "ADMINISTRACION DE EMPRESAS      42970\n",
       "DERECHO                         37755\n",
       "CONTADURIA PUBLICA              35025\n",
       "PSICOLOGIA                      26365\n",
       "INGENIERIA INDUSTRIAL           22679"
      ]
     },
     "execution_count": 9,
     "metadata": {},
     "output_type": "execute_result"
    }
   ],
   "source": [
    "programa_top = data[[\"Programa Académico\", \"Graduados\"]].groupby(\"Programa Académico\").sum()\n",
    "programa_top = programa_top.sort_values(by=\"Graduados\", ascending=False)\n",
    "programa_top.head()"
   ]
  },
  {
   "cell_type": "code",
   "execution_count": 10,
   "metadata": {},
   "outputs": [
    {
     "name": "stdout",
     "output_type": "stream",
     "text": [
      "Programa académico con más graduados -> ADMINISTRACION DE EMPRESAS\n",
      "Con un porcentaje de = 5 %\n"
     ]
    }
   ],
   "source": [
    "total_graduados = data[\"Graduados\"].sum()\n",
    "print(f\"Programa académico con más graduados -> {programa_top.iloc[0].name}\")\n",
    "n_progama_top = programa_top.iloc[0].values[0]\n",
    "print(f\"Con un porcentaje de = {n_progama_top/total_graduados * 100:.0f} %\")"
   ]
  },
  {
   "attachments": {},
   "cell_type": "markdown",
   "metadata": {},
   "source": [
    "### ¿Acorde a la información del gráfico puedes inferir que estaba tratando de representar el compañero?"
   ]
  },
  {
   "cell_type": "code",
   "execution_count": 11,
   "metadata": {},
   "outputs": [
    {
     "data": {
      "text/html": [
       "<div>\n",
       "<style scoped>\n",
       "    .dataframe tbody tr th:only-of-type {\n",
       "        vertical-align: middle;\n",
       "    }\n",
       "\n",
       "    .dataframe tbody tr th {\n",
       "        vertical-align: top;\n",
       "    }\n",
       "\n",
       "    .dataframe thead th {\n",
       "        text-align: right;\n",
       "    }\n",
       "</style>\n",
       "<table border=\"1\" class=\"dataframe\">\n",
       "  <thead>\n",
       "    <tr style=\"text-align: right;\">\n",
       "      <th></th>\n",
       "      <th>Graduados</th>\n",
       "    </tr>\n",
       "    <tr>\n",
       "      <th>Departamento</th>\n",
       "      <th></th>\n",
       "    </tr>\n",
       "  </thead>\n",
       "  <tbody>\n",
       "    <tr>\n",
       "      <th>BOGOTA D.C.</th>\n",
       "      <td>331130</td>\n",
       "    </tr>\n",
       "    <tr>\n",
       "      <th>ANTIOQUIA</th>\n",
       "      <td>146692</td>\n",
       "    </tr>\n",
       "    <tr>\n",
       "      <th>VALLE DEL CAUCA</th>\n",
       "      <td>77574</td>\n",
       "    </tr>\n",
       "    <tr>\n",
       "      <th>SANTANDER</th>\n",
       "      <td>70065</td>\n",
       "    </tr>\n",
       "    <tr>\n",
       "      <th>CALDAS</th>\n",
       "      <td>25497</td>\n",
       "    </tr>\n",
       "    <tr>\n",
       "      <th>ATLANTICO</th>\n",
       "      <td>22959</td>\n",
       "    </tr>\n",
       "    <tr>\n",
       "      <th>CUNDINAMARCA</th>\n",
       "      <td>22080</td>\n",
       "    </tr>\n",
       "    <tr>\n",
       "      <th>RISARALDA</th>\n",
       "      <td>21609</td>\n",
       "    </tr>\n",
       "    <tr>\n",
       "      <th>NORTE DE SANTANDER</th>\n",
       "      <td>16733</td>\n",
       "    </tr>\n",
       "    <tr>\n",
       "      <th>TOLIMA</th>\n",
       "      <td>15132</td>\n",
       "    </tr>\n",
       "  </tbody>\n",
       "</table>\n",
       "</div>"
      ],
      "text/plain": [
       "                    Graduados\n",
       "Departamento                 \n",
       "BOGOTA D.C.            331130\n",
       "ANTIOQUIA              146692\n",
       "VALLE DEL CAUCA         77574\n",
       "SANTANDER               70065\n",
       "CALDAS                  25497\n",
       "ATLANTICO               22959\n",
       "CUNDINAMARCA            22080\n",
       "RISARALDA               21609\n",
       "NORTE DE SANTANDER      16733\n",
       "TOLIMA                  15132"
      ]
     },
     "execution_count": 11,
     "metadata": {},
     "output_type": "execute_result"
    }
   ],
   "source": [
    "hack = data[[\"Departamento\", \"Graduados\"]].groupby(\"Departamento\").sum()\n",
    "hack = hack.sort_values(by=\"Graduados\", ascending=False)\n",
    "hack.head(10)"
   ]
  },
  {
   "attachments": {},
   "cell_type": "markdown",
   "metadata": {},
   "source": [
    "### 6. Teniendo en cuenta la información del año 2019 ¿Qué porcentaje del total de las IES ofrecen programas de manera virtual?"
   ]
  },
  {
   "cell_type": "code",
   "execution_count": 12,
   "metadata": {},
   "outputs": [
    {
     "name": "stdout",
     "output_type": "stream",
     "text": [
      "Instituciones que ofrecen virtuakidad = 76\n",
      "Total IES = 219\n",
      "Porcentaje que ofrece programa virtual = 34.7\n"
     ]
    }
   ],
   "source": [
    "data_2019 = data[data[\"Año\"] == 2019]\n",
    "IES_virtual = len(data_2019[data_2019[\"Metodología\"]==\"DISTANCIA (VIRTUAL)\"][\"IES\"].unique())\n",
    "print(f\"Instituciones que ofrecen virtuakidad = {IES_virtual}\")\n",
    "total_IES = len(data_2019[\"IES\"].unique())\n",
    "print(f\"Total IES = {total_IES}\")\n",
    "print(f\"Porcentaje que ofrece programa virtual = {IES_virtual/total_IES*100:.1f}\")"
   ]
  },
  {
   "attachments": {},
   "cell_type": "markdown",
   "metadata": {},
   "source": [
    "### 7. ¿Qué porcentaje del total de los graduados corresponde a mujeres?"
   ]
  },
  {
   "cell_type": "code",
   "execution_count": 13,
   "metadata": {},
   "outputs": [
    {
     "name": "stdout",
     "output_type": "stream",
     "text": [
      "Graduados mujer = 253,146\n",
      "Graduados hombre = 195,054\n",
      "Graduados  = 448,200\n",
      "\n",
      "Porcentaje mujeres graduadas = 56.5 %\n"
     ]
    }
   ],
   "source": [
    "graduados_mujer = data_2019[data_2019[\"Sexo\"] == \"MUJER\"][\"Graduados\"].sum()\n",
    "graduados_hombre = data_2019[data_2019[\"Sexo\"] == \"HOMBRE\"][\"Graduados\"].sum()\n",
    "graduados = data_2019[\"Graduados\"].sum()\n",
    "\n",
    "print(f\"Graduados mujer = {graduados_mujer:,.0f}\")\n",
    "print(f\"Graduados hombre = {graduados_hombre:,.0f}\")\n",
    "print(f\"Graduados  = {graduados:,.0f}\")\n",
    "print(\"\")\n",
    "print(f\"Porcentaje mujeres graduadas = {graduados_mujer/graduados * 100:.1f} %\")"
   ]
  },
  {
   "attachments": {},
   "cell_type": "markdown",
   "metadata": {},
   "source": [
    "### ¿Existe alguna diferencia entre los programas académicos que más graduados hombres reportan y los que más mujeres reportan o es el mismo?"
   ]
  },
  {
   "cell_type": "code",
   "execution_count": 14,
   "metadata": {},
   "outputs": [
    {
     "data": {
      "text/html": [
       "<div>\n",
       "<style scoped>\n",
       "    .dataframe tbody tr th:only-of-type {\n",
       "        vertical-align: middle;\n",
       "    }\n",
       "\n",
       "    .dataframe tbody tr th {\n",
       "        vertical-align: top;\n",
       "    }\n",
       "\n",
       "    .dataframe thead th {\n",
       "        text-align: right;\n",
       "    }\n",
       "</style>\n",
       "<table border=\"1\" class=\"dataframe\">\n",
       "  <thead>\n",
       "    <tr style=\"text-align: right;\">\n",
       "      <th></th>\n",
       "      <th>Graduados</th>\n",
       "    </tr>\n",
       "    <tr>\n",
       "      <th>Programa Académico</th>\n",
       "      <th></th>\n",
       "    </tr>\n",
       "  </thead>\n",
       "  <tbody>\n",
       "    <tr>\n",
       "      <th>ADMINISTRACION DE EMPRESAS</th>\n",
       "      <td>8977</td>\n",
       "    </tr>\n",
       "    <tr>\n",
       "      <th>DERECHO</th>\n",
       "      <td>7474</td>\n",
       "    </tr>\n",
       "    <tr>\n",
       "      <th>INGENIERIA INDUSTRIAL</th>\n",
       "      <td>5753</td>\n",
       "    </tr>\n",
       "    <tr>\n",
       "      <th>CONTADURIA PUBLICA</th>\n",
       "      <td>5109</td>\n",
       "    </tr>\n",
       "    <tr>\n",
       "      <th>INGENIERIA CIVIL</th>\n",
       "      <td>4314</td>\n",
       "    </tr>\n",
       "    <tr>\n",
       "      <th>INGENIERIA DE SISTEMAS</th>\n",
       "      <td>4131</td>\n",
       "    </tr>\n",
       "    <tr>\n",
       "      <th>TECNOLOGIA EN CONTABILIDAD Y FINANZAS</th>\n",
       "      <td>2953</td>\n",
       "    </tr>\n",
       "    <tr>\n",
       "      <th>TECNOLOGIA EN GESTION EMPRESARIAL</th>\n",
       "      <td>2818</td>\n",
       "    </tr>\n",
       "    <tr>\n",
       "      <th>TECNOLOGIA EN ANALISIS Y DESARROLLO DE SISTEMAS DE INFORMACION</th>\n",
       "      <td>2696</td>\n",
       "    </tr>\n",
       "    <tr>\n",
       "      <th>PSICOLOGIA</th>\n",
       "      <td>2484</td>\n",
       "    </tr>\n",
       "  </tbody>\n",
       "</table>\n",
       "</div>"
      ],
      "text/plain": [
       "                                                    Graduados\n",
       "Programa Académico                                           \n",
       "ADMINISTRACION DE EMPRESAS                               8977\n",
       "DERECHO                                                  7474\n",
       "INGENIERIA INDUSTRIAL                                    5753\n",
       "CONTADURIA PUBLICA                                       5109\n",
       "INGENIERIA CIVIL                                         4314\n",
       "INGENIERIA DE SISTEMAS                                   4131\n",
       "TECNOLOGIA EN CONTABILIDAD Y FINANZAS                    2953\n",
       "TECNOLOGIA EN GESTION EMPRESARIAL                        2818\n",
       "TECNOLOGIA EN ANALISIS Y DESARROLLO DE SISTEMAS...       2696\n",
       "PSICOLOGIA                                               2484"
      ]
     },
     "execution_count": 14,
     "metadata": {},
     "output_type": "execute_result"
    }
   ],
   "source": [
    "hombre_carrera = data_2019[data_2019[\"Sexo\"]==\"HOMBRE\"][[\"Programa Académico\", \"Graduados\"]].groupby(\"Programa Académico\").sum()\n",
    "hombre_carrera = hombre_carrera.sort_values(by=\"Graduados\", ascending=False)\n",
    "hombre_carrera.head(10)"
   ]
  },
  {
   "cell_type": "code",
   "execution_count": 15,
   "metadata": {},
   "outputs": [
    {
     "data": {
      "text/html": [
       "<div>\n",
       "<style scoped>\n",
       "    .dataframe tbody tr th:only-of-type {\n",
       "        vertical-align: middle;\n",
       "    }\n",
       "\n",
       "    .dataframe tbody tr th {\n",
       "        vertical-align: top;\n",
       "    }\n",
       "\n",
       "    .dataframe thead th {\n",
       "        text-align: right;\n",
       "    }\n",
       "</style>\n",
       "<table border=\"1\" class=\"dataframe\">\n",
       "  <thead>\n",
       "    <tr style=\"text-align: right;\">\n",
       "      <th></th>\n",
       "      <th>Graduados</th>\n",
       "    </tr>\n",
       "    <tr>\n",
       "      <th>Programa Académico</th>\n",
       "      <th></th>\n",
       "    </tr>\n",
       "  </thead>\n",
       "  <tbody>\n",
       "    <tr>\n",
       "      <th>ADMINISTRACION DE EMPRESAS</th>\n",
       "      <td>14063</td>\n",
       "    </tr>\n",
       "    <tr>\n",
       "      <th>CONTADURIA PUBLICA</th>\n",
       "      <td>12128</td>\n",
       "    </tr>\n",
       "    <tr>\n",
       "      <th>PSICOLOGIA</th>\n",
       "      <td>11955</td>\n",
       "    </tr>\n",
       "    <tr>\n",
       "      <th>DERECHO</th>\n",
       "      <td>9224</td>\n",
       "    </tr>\n",
       "    <tr>\n",
       "      <th>TECNOLOGIA EN CONTABILIDAD Y FINANZAS</th>\n",
       "      <td>6295</td>\n",
       "    </tr>\n",
       "    <tr>\n",
       "      <th>TECNOLOGIA EN GESTION EMPRESARIAL</th>\n",
       "      <td>6165</td>\n",
       "    </tr>\n",
       "    <tr>\n",
       "      <th>LICENCIATURA EN PEDAGOGIA INFANTIL</th>\n",
       "      <td>6038</td>\n",
       "    </tr>\n",
       "    <tr>\n",
       "      <th>TECNOLOGIA EN GESTION ADMINISTRATIVA</th>\n",
       "      <td>5929</td>\n",
       "    </tr>\n",
       "    <tr>\n",
       "      <th>INGENIERIA INDUSTRIAL</th>\n",
       "      <td>4842</td>\n",
       "    </tr>\n",
       "    <tr>\n",
       "      <th>TECNOLOGIA EN GESTION DEL TALENTO HUMANO</th>\n",
       "      <td>4040</td>\n",
       "    </tr>\n",
       "  </tbody>\n",
       "</table>\n",
       "</div>"
      ],
      "text/plain": [
       "                                          Graduados\n",
       "Programa Académico                                 \n",
       "ADMINISTRACION DE EMPRESAS                    14063\n",
       "CONTADURIA PUBLICA                            12128\n",
       "PSICOLOGIA                                    11955\n",
       "DERECHO                                        9224\n",
       "TECNOLOGIA EN CONTABILIDAD Y FINANZAS          6295\n",
       "TECNOLOGIA EN GESTION EMPRESARIAL              6165\n",
       "LICENCIATURA EN PEDAGOGIA INFANTIL             6038\n",
       "TECNOLOGIA EN GESTION ADMINISTRATIVA           5929\n",
       "INGENIERIA INDUSTRIAL                          4842\n",
       "TECNOLOGIA EN GESTION DEL TALENTO HUMANO       4040"
      ]
     },
     "execution_count": 15,
     "metadata": {},
     "output_type": "execute_result"
    }
   ],
   "source": [
    "mujer_carrera = data_2019[data_2019[\"Sexo\"]==\"MUJER\"][[\"Programa Académico\", \"Graduados\"]].groupby(\"Programa Académico\").sum()\n",
    "mujer_carrera = mujer_carrera.sort_values(by=\"Graduados\", ascending=False)\n",
    "mujer_carrera.head(10)"
   ]
  },
  {
   "attachments": {},
   "cell_type": "markdown",
   "metadata": {},
   "source": [
    "### Pregunta 8\n",
    "\n",
    "En primer lugar se analiza en que ciudad ofertan INGENIERIA AMBIENTAL"
   ]
  },
  {
   "cell_type": "code",
   "execution_count": 16,
   "metadata": {},
   "outputs": [
    {
     "data": {
      "text/plain": [
       "array(['SANTANDER', 'HUILA', 'VALLE DEL CAUCA', 'ANTIOQUIA', 'CHOCO',\n",
       "       'CALDAS', 'CUNDINAMARCA', 'PUTUMAYO', 'CORDOBA',\n",
       "       'NORTE DE SANTANDER', 'META', 'NARIÑO', 'BOGOTA D.C.', 'BOLIVAR',\n",
       "       'BOYACA', 'GUAJIRA', 'ATLANTICO', 'CAUCA'], dtype=object)"
      ]
     },
     "execution_count": 16,
     "metadata": {},
     "output_type": "execute_result"
    }
   ],
   "source": [
    "ciudad_ing_ambiental = data[data[\"Programa Académico\"] == \"INGENIERIA AMBIENTAL\"][\"Departamento\"].unique()\n",
    "ciudad_ing_ambiental"
   ]
  },
  {
   "attachments": {},
   "cell_type": "markdown",
   "metadata": {},
   "source": [
    "Se comprueba si efectivamente el GUAVIARE está dentro de las ciudades"
   ]
  },
  {
   "cell_type": "code",
   "execution_count": 17,
   "metadata": {},
   "outputs": [
    {
     "data": {
      "text/plain": [
       "False"
      ]
     },
     "execution_count": 17,
     "metadata": {},
     "output_type": "execute_result"
    }
   ],
   "source": [
    "\"GUAVIARE\" in  ciudad_ing_ambiental"
   ]
  },
  {
   "attachments": {},
   "cell_type": "markdown",
   "metadata": {},
   "source": [
    "Esto determina que en donde ella se encuentra no puede estudiar, descartamos la opción D. Por otra parte podemos ver bajo que Metodología se imparte la Carrera"
   ]
  },
  {
   "cell_type": "code",
   "execution_count": 18,
   "metadata": {},
   "outputs": [
    {
     "data": {
      "text/plain": [
       "array(['PRESENCIAL', 'DISTANCIA (VIRTUAL)', 'DISTANCIA (TRADICIONAL)'],\n",
       "      dtype=object)"
      ]
     },
     "execution_count": 18,
     "metadata": {},
     "output_type": "execute_result"
    }
   ],
   "source": [
    "met_ing_ambiental = data[data[\"Programa Académico\"] == \"INGENIERIA AMBIENTAL\"][\"Metodología\"].unique()\n",
    "met_ing_ambiental"
   ]
  },
  {
   "attachments": {},
   "cell_type": "markdown",
   "metadata": {},
   "source": [
    "Se puede inferir que se imparte en las tres modalidades solamente que se se debe aseugrar el top 3 de las universidades que más graduados tienen en el programa académico "
   ]
  },
  {
   "cell_type": "code",
   "execution_count": 19,
   "metadata": {},
   "outputs": [
    {
     "data": {
      "text/html": [
       "<div>\n",
       "<style scoped>\n",
       "    .dataframe tbody tr th:only-of-type {\n",
       "        vertical-align: middle;\n",
       "    }\n",
       "\n",
       "    .dataframe tbody tr th {\n",
       "        vertical-align: top;\n",
       "    }\n",
       "\n",
       "    .dataframe thead th {\n",
       "        text-align: right;\n",
       "    }\n",
       "</style>\n",
       "<table border=\"1\" class=\"dataframe\">\n",
       "  <thead>\n",
       "    <tr style=\"text-align: right;\">\n",
       "      <th></th>\n",
       "      <th>Graduados</th>\n",
       "    </tr>\n",
       "    <tr>\n",
       "      <th>IES</th>\n",
       "      <th></th>\n",
       "    </tr>\n",
       "  </thead>\n",
       "  <tbody>\n",
       "    <tr>\n",
       "      <th>CORPORACION UNIVERSITARIA DEL HUILA-CORHUILA-</th>\n",
       "      <td>1009</td>\n",
       "    </tr>\n",
       "    <tr>\n",
       "      <th>UNIDADES TECNOLOGICAS DE SANTANDER</th>\n",
       "      <td>957</td>\n",
       "    </tr>\n",
       "    <tr>\n",
       "      <th>UNIVERSIDAD NACIONAL ABIERTA Y A DISTANCIA UNAD</th>\n",
       "      <td>871</td>\n",
       "    </tr>\n",
       "    <tr>\n",
       "      <th>FUNDACION UNIVERSITARIA DE SAN GIL - UNISANGIL -</th>\n",
       "      <td>560</td>\n",
       "    </tr>\n",
       "    <tr>\n",
       "      <th>UNIVERSIDAD NACIONAL DE COLOMBIA</th>\n",
       "      <td>513</td>\n",
       "    </tr>\n",
       "  </tbody>\n",
       "</table>\n",
       "</div>"
      ],
      "text/plain": [
       "                                                  Graduados\n",
       "IES                                                        \n",
       "CORPORACION UNIVERSITARIA DEL HUILA-CORHUILA-          1009\n",
       "UNIDADES TECNOLOGICAS DE SANTANDER                      957\n",
       "UNIVERSIDAD NACIONAL ABIERTA Y A DISTANCIA UNAD         871\n",
       "FUNDACION UNIVERSITARIA DE SAN GIL - UNISANGIL -        560\n",
       "UNIVERSIDAD NACIONAL DE COLOMBIA                        513"
      ]
     },
     "execution_count": 19,
     "metadata": {},
     "output_type": "execute_result"
    }
   ],
   "source": [
    "top3 = data[data[\"Programa Académico\"]==\"INGENIERIA AMBIENTAL\"][[\"IES\", \"Graduados\"]].groupby([\"IES\"]).sum()\n",
    "top3 = top3.sort_values(by=\"Graduados\", ascending=False)\n",
    "top3.head(5)"
   ]
  },
  {
   "attachments": {},
   "cell_type": "markdown",
   "metadata": {},
   "source": [
    "Esto descarta la opción A, dado que no necesarimante el top 3 de Universidades está en Bogotá. Faltaria ver del las tres primeras universidades , cual de ellas ofrece presencialidad o virtualidad "
   ]
  },
  {
   "cell_type": "code",
   "execution_count": 20,
   "metadata": {},
   "outputs": [
    {
     "name": "stdout",
     "output_type": "stream",
     "text": [
      "Modalidades CORPORACION UNIVERSITARIA DEL HUILA-CORHUILA-\n",
      "['PRESENCIAL']\n",
      "Modalidades UNIDADES TECNOLOGICAS DE SANTANDER\n",
      "['PRESENCIAL']\n",
      "Modalidades UNIVERSIDAD NACIONAL ABIERTA Y A DISTANCIA UNAD\n",
      "['DISTANCIA (TRADICIONAL)']\n"
     ]
    }
   ],
   "source": [
    "uni1 = top3.iloc[0].name\n",
    "uni2 = top3.iloc[1].name\n",
    "uni3 = top3.iloc[2].name\n",
    "\n",
    "print(f\"Modalidades {uni1}\")\n",
    "print(data[(data[\"IES\"]==uni1) & (data[\"Programa Académico\"]==\"INGENIERIA AMBIENTAL\")][\"Metodología\"].unique())\n",
    "print(f\"Modalidades {uni2}\")\n",
    "print(data[(data[\"IES\"]==uni2) & (data[\"Programa Académico\"]==\"INGENIERIA AMBIENTAL\")][\"Metodología\"].unique())\n",
    "print(f\"Modalidades {uni3}\")\n",
    "print(data[(data[\"IES\"]==uni3) & (data[\"Programa Académico\"]==\"INGENIERIA AMBIENTAL\")][\"Metodología\"].unique())\n"
   ]
  },
  {
   "attachments": {},
   "cell_type": "markdown",
   "metadata": {},
   "source": [
    "Esto descarta la posibildad que se pueda estudiar de manera virtual, deberá trasladarse a una ciudad principal"
   ]
  },
  {
   "attachments": {},
   "cell_type": "markdown",
   "metadata": {},
   "source": [
    "### 9. ¿Cuántas IES existen en las que Andrés podría estudiar?"
   ]
  },
  {
   "cell_type": "code",
   "execution_count": 38,
   "metadata": {},
   "outputs": [
    {
     "data": {
      "text/plain": [
       "array(['INSTITUTO TECNICO NACIONAL DE COMERCIO SIMON RODRIGUEZ - INTENALCO',\n",
       "       'INSTITUCION UNIVERSITARIA ANTONIO JOSE CAMACHO'], dtype=object)"
      ]
     },
     "execution_count": 38,
     "metadata": {},
     "output_type": "execute_result"
    }
   ],
   "source": [
    "nivel = data[data[\"Nivel de Formación\"]==\"FORMACION TECNICA PROFESIONAL\"]\n",
    "met   = nivel[nivel[\"Metodología\"]==\"PRESENCIAL\"]\n",
    "sector = met[met[\"Sector IES\"] == \"OFICIAL\"]\n",
    "ciudad = sector[sector[\"Municipio de domicilio de la IES\"] == \"CALI\"]\n",
    "programas = ciudad[\"IES\"].unique()\n",
    "programas"
   ]
  },
  {
   "attachments": {},
   "cell_type": "markdown",
   "metadata": {},
   "source": [
    "Ahora, se debe buscar cuantos programas académicos ofrecen cada una de estas instituciones"
   ]
  },
  {
   "cell_type": "code",
   "execution_count": 52,
   "metadata": {},
   "outputs": [
    {
     "name": "stdout",
     "output_type": "stream",
     "text": [
      "['TECNICA PROFESIONAL EN COSTOS Y CONTABILIDAD'\n",
      " 'TECNICA PROFESIONAL EN GESTION EMPRESARIAL'\n",
      " 'TECNICA PROFESIONAL EN SALUD OCUPACIONAL'\n",
      " 'TECNICO PROFESIONAL EN PROCESOS DE IMPORTACIONES Y EXPORTACIONES'\n",
      " 'TECNICO PROFESIONAL EN PROCESOS ADMINISTRATIVOS DE SEGURIDAD Y SALUD EN EL TRABAJO'\n",
      " 'TECNICO PROFESIONAL EN PROCESOS VIALES Y DE TRANSPORTE'\n",
      " 'TECNICO PROFESIONAL EN MERCADEO']\n",
      "7\n"
     ]
    }
   ],
   "source": [
    "uni1_pr = ciudad[ciudad[\"IES\"] == programas[0]][\"Programa Académico\"].unique()\n",
    "print(uni1_pr)\n",
    "print(len(uni1_pr))"
   ]
  },
  {
   "cell_type": "code",
   "execution_count": 53,
   "metadata": {},
   "outputs": [
    {
     "name": "stdout",
     "output_type": "stream",
     "text": [
      "['TECNICO PROFESIONAL EN PROCESOS EMPRESARIALES'\n",
      " 'TECNICO PROFESIONAL EN LOGISTICA EMPRESARIAL']\n",
      "2\n"
     ]
    }
   ],
   "source": [
    "uni1_pr = ciudad[ciudad[\"IES\"] == programas[1]][\"Programa Académico\"].unique()\n",
    "print(uni1_pr)\n",
    "print(len(uni1_pr))"
   ]
  }
 ],
 "metadata": {
  "kernelspec": {
   "display_name": "Python 3",
   "language": "python",
   "name": "python3"
  },
  "language_info": {
   "codemirror_mode": {
    "name": "ipython",
    "version": 3
   },
   "file_extension": ".py",
   "mimetype": "text/x-python",
   "name": "python",
   "nbconvert_exporter": "python",
   "pygments_lexer": "ipython3",
   "version": "3.6.13 |Anaconda, Inc.| (default, Feb 23 2021, 12:58:59) \n[GCC Clang 10.0.0 ]"
  },
  "orig_nbformat": 4,
  "vscode": {
   "interpreter": {
    "hash": "d064fa398977c1d50284cbef2ba48e40178d3a51b1f0def1d800ec1289a8d9d4"
   }
  }
 },
 "nbformat": 4,
 "nbformat_minor": 2
}
